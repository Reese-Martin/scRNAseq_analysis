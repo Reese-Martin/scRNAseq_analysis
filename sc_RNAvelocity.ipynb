{
 "cells": [
  {
   "cell_type": "code",
   "execution_count": 1,
   "id": "f1746564-3009-41f2-be09-a07501fbefc6",
   "metadata": {},
   "outputs": [],
   "source": [
    "### what is RNA velocity?\n",
    "# motivation: by its very nature, scRNA-seq is a destructive procees, and chang over time in a \n",
    "# single cell cannot be studied. position in time can be recovered from snapshot scRNA data using\n",
    "# trajectory inference techniques, but traditional TI methods do not offer directed information.\n",
    "\n",
    "# RNA velocity is the direction and rate of gene expression change. The change in transcriptomic \n",
    "# profile of a cell is triggered by a series of events: 1) DNA is transcribed to pre-mRNA. 2) exons \n",
    "# are spliced out of pre-mRNA forming mature mRNA. scRNAseq protocols cannot capture the \n",
    "# transcriptome at multiple timepoints, but they do include the necessary information to sort spliced \n",
    "# and unspliced mRNA reads.\n",
    "\n",
    "# from spliced and unspliced reads, a dynamical model (system of ODEs) can be created to describe\n",
    "# splicing kinetics, with model weights inferred based on sc data. The change in spliced RNA is the\n",
    "# RNA velocity."
   ]
  },
  {
   "cell_type": "code",
   "execution_count": null,
   "id": "cc2a8adc-df18-4ca0-b584-9c9a3621baba",
   "metadata": {},
   "outputs": [],
   "source": []
  }
 ],
 "metadata": {
  "kernelspec": {
   "display_name": "Python 3 (ipykernel)",
   "language": "python",
   "name": "python3"
  },
  "language_info": {
   "codemirror_mode": {
    "name": "ipython",
    "version": 3
   },
   "file_extension": ".py",
   "mimetype": "text/x-python",
   "name": "python",
   "nbconvert_exporter": "python",
   "pygments_lexer": "ipython3",
   "version": "3.9.21"
  }
 },
 "nbformat": 4,
 "nbformat_minor": 5
}
